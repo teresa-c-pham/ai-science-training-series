{
 "cells": [
  {
   "cell_type": "code",
   "execution_count": 15,
   "id": "a13ec6a4",
   "metadata": {},
   "outputs": [],
   "source": [
    "%load_ext autoreload\n",
    "%autoreload 2"
   ]
  },
  {
   "cell_type": "code",
   "execution_count": 26,
   "id": "c0dd59bb",
   "metadata": {},
   "outputs": [],
   "source": [
    "%matplotlib inline\n",
    "\n",
    "import tensorflow as tf\n",
    "import time\n",
    "import numpy\n",
    "import matplotlib.pyplot as plt\n",
    "from sklearn.model_selection import train_test_split"
   ]
  },
  {
   "cell_type": "markdown",
   "id": "f28ebe91",
   "metadata": {},
   "source": [
    "## 01_introduction_mlp.ipynb"
   ]
  },
  {
   "cell_type": "code",
   "execution_count": 2,
   "id": "842b1b04",
   "metadata": {},
   "outputs": [],
   "source": [
    "(x_train, y_train), (x_test, y_test) = tf.keras.datasets.mnist.load_data()\n",
    "x_train = x_train.astype(numpy.float32)\n",
    "x_test  = x_test.astype(numpy.float32)\n",
    "\n",
    "x_train /= 255.\n",
    "x_test  /= 255.\n",
    "x_train = x_train.reshape(x_train.shape[0], numpy.prod(x_train[0,:,:].shape))\n",
    "x_test = x_test.reshape(x_test.shape[0], numpy.prod(x_test[0,:,:].shape))\n",
    "y_train = y_train.astype(numpy.int32)\n",
    "y_test  = y_test.astype(numpy.int32)"
   ]
  },
  {
   "cell_type": "code",
   "execution_count": 4,
   "id": "6195fbb8",
   "metadata": {},
   "outputs": [],
   "source": [
    "newX_train, newX_test, newy_train, newy_test = train_test_split(x_train, y_train, test_size=0.33, random_state=42)"
   ]
  },
  {
   "cell_type": "markdown",
   "id": "e29b8d9e",
   "metadata": {},
   "source": [
    "### Use subset of training data set and test set"
   ]
  },
  {
   "cell_type": "code",
   "execution_count": 7,
   "id": "c0361cc6",
   "metadata": {},
   "outputs": [],
   "source": [
    "batch_size = 100\n",
    "newX_train_batch = newX_train[:batch_size, :]\n",
    "newy_train_batch = newy_train[:batch_size,numpy.newaxis]\n",
    "\n",
    "newX_test_batch = newX_test[:batch_size, :]\n",
    "newy_test_batch = newy_test[:batch_size,numpy.newaxis]"
   ]
  },
  {
   "cell_type": "markdown",
   "id": "dff19162",
   "metadata": {},
   "source": [
    "### Calculate loss and accuracy of data\n",
    "To stop training, we can examine the accuracy and loss of the model."
   ]
  },
  {
   "cell_type": "code",
   "execution_count": 12,
   "id": "4c4e62c4",
   "metadata": {},
   "outputs": [],
   "source": [
    "def linear_model(W, input_images):\n",
    "    # f(x) = xW returns m-length vector, where m is the number of examples\n",
    "    return numpy.dot(input_images, W)\n",
    "\n",
    "def evaluate(W, input_images, true_labels):\n",
    "    predicted_label = linear_model(W, input_images)\n",
    "    MSE = numpy.mean((true_labels - predicted_label)**2) \n",
    "    return MSE\n",
    "\n",
    "def learn(input_images, true_labels, current_W, learning_rate=0.000001):\n",
    "    # first we need dJW/dW where JW = MSE \n",
    "    n = input_images.shape[0] # get number of examples to average over\n",
    "    label_predictions = linear_model(current_W, input_images)\n",
    "    # calculate gradient: one entry per partial derivative for an entry in vector W\n",
    "    dJW_dW = (2./n) * numpy.dot(input_images.transpose(), label_predictions - true_labels)\n",
    "    # now we update W\n",
    "    new_W = current_W - (learning_rate * dJW_dW)  # gradient update step\n",
    "    return new_W\n",
    "\n",
    "def accuracy(true_labels, predicted_labels):\n",
    "    N = predicted_labels.shape[0]\n",
    "    acc = (true_labels == predicted_labels).sum() / N\n",
    "    return acc\n",
    "\n",
    "def evaluate_accuracy(W, input_images, true_labels):\n",
    "    predicted_labels = numpy.round(linear_model(W, input_images)) # round real numbers to integer labels\n",
    "    acc = accuracy(true_labels, predicted_labels) \n",
    "    return acc"
   ]
  },
  {
   "cell_type": "code",
   "execution_count": 13,
   "id": "67fce2f4",
   "metadata": {
    "scrolled": true
   },
   "outputs": [],
   "source": [
    "num_features = x_train.shape[1] # this is the number of pixels\n",
    "\n",
    "# Randomly initialize W\n",
    "W = .01 * numpy.random.rand(num_features,1)\n",
    "\n",
    "# now iterate num_iters times, with the step size defined by learning_rate\n",
    "learning_rate = 0.0005  \n",
    "num_iters = 5000\n",
    "lossTrain = numpy.zeros(num_iters,)       # loss of Training Data\n",
    "lossVal = numpy.zeros(num_iters,)      # Loss of Validation Data\n",
    "accuracyTrain = numpy.zeros(num_iters,)\n",
    "accuracyVal = numpy.zeros(num_iters,)\n",
    "\n",
    "for i in range(0, num_iters):\n",
    "    # all the magic here\n",
    "    W = learn(newX_train_batch, newy_train_batch, W, learning_rate)\n",
    "    lossTrain[i] = evaluate(W, newX_train_batch, newy_train_batch)\n",
    "    accuracyTrain[i] = evaluate_accuracy(W, newX_train_batch, newy_train_batch)\n",
    "    \n",
    "    W = learn(newX_test_batch, newy_test_batch, W, learning_rate)\n",
    "    lossVal[i] = evaluate(W, newX_test_batch, newy_test_batch)\n",
    "    accuracyVal[i] = evaluate_accuracy(W, newX_test_batch, newy_test_batch)"
   ]
  },
  {
   "cell_type": "code",
   "execution_count": 14,
   "id": "84cd3c30",
   "metadata": {
    "scrolled": true
   },
   "outputs": [
    {
     "data": {
      "text/plain": [
       "[<matplotlib.lines.Line2D at 0x1c9da27e310>]"
      ]
     },
     "execution_count": 14,
     "metadata": {},
     "output_type": "execute_result"
    },
    {
     "data": {
      "image/png": "[encoded data removed]",
      "text/plain": [
       "<Figure size 432x288 with 2 Axes>"
      ]
     },
     "metadata": {
      "needs_background": "light"
     },
     "output_type": "display_data"
    }
   ],
   "source": [
    "plt.figure()\n",
    "plt.subplot(2,1,1)\n",
    "plt.plot(lossTrain)\n",
    "plt.plot(lossVal)\n",
    "plt.legend([\"train\", \"val\"])\n",
    "\n",
    "plt.subplot(2,1,2)\n",
    "plt.plot(accuracyTrain)\n",
    "plt.plot(accuracyVal)"
   ]
  },
  {
   "cell_type": "markdown",
   "id": "3ec75478",
   "metadata": {},
   "source": [
    "## 02_full_net.ipynb"
   ]
  },
  {
   "cell_type": "code",
   "execution_count": 32,
   "id": "da412dba",
   "metadata": {},
   "outputs": [
    {
     "name": "stdout",
     "output_type": "stream",
     "text": [
      "(40200, 28, 28)\n",
      "(40200, 784)\n",
      "\n",
      "MNIST data loaded: train: 40200 val: 19800 test: 10000\n",
      "X_train: (40200, 784)\n",
      "y_train: (40200,)\n"
     ]
    }
   ],
   "source": [
    "# repeating the data prep from the previous notebook\n",
    "(x_train, y_train), (x_test, y_test) = tf.keras.datasets.mnist.load_data()\n",
    "\n",
    "# Split Data into Training and Validation Data subsets\n",
    "x_train, x_val, y_train, y_val = train_test_split(x_train, y_train, test_size=0.33, random_state=42)\n",
    "\n",
    "x_train = x_train.astype(numpy.float32)\n",
    "x_val  = x_val.astype(numpy.float32)\n",
    "x_test  = x_test.astype(numpy.float32)\n",
    "\n",
    "x_train /= 255.\n",
    "x_val  /= 255.\n",
    "x_test  /= 255.\n",
    "\n",
    "print(x_train.shape)\n",
    "x_train = x_train.reshape(x_train.shape[0], numpy.prod(x_train[0,:,:].shape))\n",
    "x_val = x_val.reshape(x_val.shape[0], numpy.prod(x_val[0,:,:].shape))\n",
    "x_test = x_test.reshape(x_test.shape[0], numpy.prod(x_test[0,:,:].shape))\n",
    "\n",
    "print(x_train.shape)\n",
    "y_train = y_train.astype(numpy.int32)\n",
    "y_val  = y_val.astype(numpy.int32)\n",
    "y_test  = y_test.astype(numpy.int32)\n",
    "\n",
    "print()\n",
    "print('MNIST data loaded: train:',len(x_train),'val:',len(x_val), 'test:',len(x_test))\n",
    "print('X_train:', x_train.shape)\n",
    "print('y_train:', y_train.shape)\n",
    "\n",
    "# one-hot encoding:\n",
    "nb_classes = 10\n",
    "y_train_onehot = tf.keras.utils.to_categorical(y_train, nb_classes)\n",
    "y_val_onehot = tf.keras.utils.to_categorical(y_val, nb_classes)\n",
    "y_test_onehot = tf.keras.utils.to_categorical(y_test, nb_classes)"
   ]
  },
  {
   "cell_type": "code",
   "execution_count": 33,
   "id": "302994b1",
   "metadata": {},
   "outputs": [],
   "source": [
    "# Here we import an implementation of a two-layer neural network \n",
    "# this code is based on pieces of the first assignment from Stanford's CSE231n course, \n",
    "# hosted at https://github.com/cs231n/cs231n.github.io with the MIT license\n",
    "from fc_net import TwoLayerNet"
   ]
  },
  {
   "cell_type": "code",
   "execution_count": 38,
   "id": "c43e3aa5",
   "metadata": {},
   "outputs": [],
   "source": [
    "# a simple implementation of stochastic gradient descent\n",
    "def sgd(model, gradients, learning_rate):\n",
    "    for p, w in model.params.items():\n",
    "        dw = gradients[p]\n",
    "        new_weights = w - learning_rate * dw\n",
    "        model.params[p] = new_weights\n",
    "\n",
    "# one training step\n",
    "def learn(model, x_train, y_train_onehot, learning_rate):\n",
    "    loss, gradients = model.loss(x_train, y_train_onehot)\n",
    "    sgd(model, gradients, learning_rate)\n",
    "    return loss\n",
    "\n",
    "def accuracy(model, x, true_values):\n",
    "    scores = model.loss(x)\n",
    "    predictions = numpy.argmax(scores, axis=1)\n",
    "    N = predictions.shape[0]\n",
    "    # EDIT: squeezing true_values from 2d to 1d speeds up this function\n",
    "    true_values_1d = numpy.squeeze(true_values)\n",
    "    acc = (true_values_1d == predictions).sum() / N\n",
    "    return acc"
   ]
  },
  {
   "cell_type": "code",
   "execution_count": 39,
   "id": "49754891",
   "metadata": {},
   "outputs": [],
   "source": [
    "def training(learning_rate, batch_size, num_epochs, hidden_dim, weight_scale, x_train, y_train, y_train_onehot, x_val, y_val, y_val_onehot):\n",
    "    num_features = x_train.shape[1] # this is the number of pixels\n",
    "    nb_classes = y_train_onehot.shape[1]\n",
    "    \n",
    "    # The weights are initialized from a normal distribution with standard deviation weight_scale\n",
    "    model = TwoLayerNet(input_dim=num_features, hidden_dim=hidden_dim, num_classes=nb_classes, weight_scale=weight_scale)\n",
    "    \n",
    "    num_examples_train = x_train.shape[0]\n",
    "    num_batches_train = int(num_examples_train / batch_size)\n",
    "    \n",
    "    losses = numpy.zeros((num_batches_train*num_epochs,2)) # 1st column for training data, 2nd for validation data\n",
    "    # EDIT: also track accuracy\n",
    "    accuracies = numpy.zeros((num_batches_train*num_epochs,2)) \n",
    "    \n",
    "    indices_train = numpy.arange(num_examples_train)\n",
    "    num_examples_val = x_val.shape[0]\n",
    "    indices_val = numpy.arange(num_examples_val)\n",
    "\n",
    "    i = 0\n",
    "    for epoch in range(0, num_epochs):\n",
    "        start_epoch = time.time()\n",
    "        # in each epoch, we loop over all of the training examples\n",
    "        for step in range(0, num_batches_train):\n",
    "            # grabbing the next training batch\n",
    "            offset_train = step * batch_size\n",
    "            batch_range_train = range(offset_train, offset_train+batch_size)\n",
    "            x_train_batch = x_train[batch_range_train, :]\n",
    "            # EDIT: keep around non-onehot labels as well for accuracy calculation\n",
    "            y_train_onehot_batch = y_train_onehot[batch_range_train,:]\n",
    "            y_train_batch = y_train[batch_range_train,numpy.newaxis]\n",
    "\n",
    "            # one approach: grab a random validation batch (random offset into number of validation examples)\n",
    "            offset_val = numpy.random.randint(low=0, high=num_examples_val-batch_size)\n",
    "            batch_range_val = range(offset_val, offset_val+batch_size)\n",
    "            x_val_batch = x_val[batch_range_val, :]\n",
    "            y_val_onehot_batch = y_val_onehot[batch_range_val,:]\n",
    "            y_val_batch = y_val[batch_range_val,numpy.newaxis]\n",
    "\n",
    "            # feed the next batch in to do one sgd step\n",
    "            loss_train = learn(model, x_train_batch, y_train_onehot_batch, learning_rate)\n",
    "\n",
    "            # check training & validation loss & accuracy\n",
    "            losses[i,0] = loss_train\n",
    "            \n",
    "            # could save time by commenting out the next three lines and only tracking at the epoch level\n",
    "            accuracies[i,0] = accuracy(model, x_train_batch, y_train_batch)\n",
    "            losses[i,1], _ = model.loss(x_val_batch, y_val_onehot_batch)\n",
    "            accuracies[i,1] = accuracy(model, x_val_batch, y_val_batch)\n",
    "            i += 1\n",
    "\n",
    "        # slower, so we're only doing this once per epoch: checking accuracy on all of the data at once\n",
    "        acc_train = accuracy(model, x_train, y_train)\n",
    "        acc_val = accuracy(model, x_val, y_val)\n",
    "        \n",
    "        # reshuffle the data so that we get a new set of batches\n",
    "        numpy.random.shuffle(indices_train)\n",
    "        x_train = x_train[indices_train,:]\n",
    "        y_train = y_train[indices_train] # keep this shuffled the same way for use in accuracy calculation\n",
    "        y_train_onehot = y_train_onehot[indices_train,:]\n",
    "\n",
    "        numpy.random.shuffle(indices_val)\n",
    "        x_val = x_val[indices_val,:]\n",
    "        y_val = y_val[indices_val] \n",
    "        y_val_onehot = y_val_onehot[indices_val,:]\n",
    "        end_epoch = time.time()\n",
    "        time_this_epoch = end_epoch - start_epoch\n",
    "        print(\"epoch %d took %.1f seconds, training loss %.5f (last batch), training accuracy %.3f, validation accuracy %.3f\" % (epoch, time_this_epoch, loss_train, acc_train, acc_val))\n",
    "    return losses, accuracies, model"
   ]
  },
  {
   "cell_type": "code",
   "execution_count": 40,
   "id": "a4f274c6",
   "metadata": {},
   "outputs": [
    {
     "name": "stdout",
     "output_type": "stream",
     "text": [
      "epoch 0 took 7.9 seconds, training loss 2.30146 (last batch), training accuracy 0.122, validation accuracy 0.118\n",
      "epoch 1 took 7.6 seconds, training loss 2.30035 (last batch), training accuracy 0.141, validation accuracy 0.139\n",
      "epoch 2 took 7.8 seconds, training loss 2.29934 (last batch), training accuracy 0.162, validation accuracy 0.161\n",
      "epoch 3 took 7.4 seconds, training loss 2.29825 (last batch), training accuracy 0.184, validation accuracy 0.182\n",
      "epoch 4 took 7.7 seconds, training loss 2.29734 (last batch), training accuracy 0.206, validation accuracy 0.203\n",
      "epoch 5 took 7.4 seconds, training loss 2.29646 (last batch), training accuracy 0.228, validation accuracy 0.226\n",
      "epoch 6 took 7.6 seconds, training loss 2.29527 (last batch), training accuracy 0.255, validation accuracy 0.250\n",
      "epoch 7 took 7.2 seconds, training loss 2.29421 (last batch), training accuracy 0.284, validation accuracy 0.279\n",
      "epoch 8 took 7.7 seconds, training loss 2.29292 (last batch), training accuracy 0.311, validation accuracy 0.306\n",
      "epoch 9 took 7.3 seconds, training loss 2.29187 (last batch), training accuracy 0.338, validation accuracy 0.331\n"
     ]
    },
    {
     "data": {
      "text/plain": [
       "[<matplotlib.lines.Line2D at 0x1c9d7b92400>]"
      ]
     },
     "execution_count": 40,
     "metadata": {},
     "output_type": "execute_result"
    },
    {
     "data": {
      "image/png": "[encoded data removed]",
      "text/plain": [
       "<Figure size 432x288 with 2 Axes>"
      ]
     },
     "metadata": {
      "needs_background": "light"
     },
     "output_type": "display_data"
    }
   ],
   "source": [
    "# these are the hyperparameters we had in class\n",
    "learning_rate = 0.01  \n",
    "batch_size = 10000\n",
    "num_epochs = 10\n",
    "hidden_dim = 300\n",
    "weight_scale = .01\n",
    "losses, accuracies, model = training(learning_rate, batch_size, num_epochs, hidden_dim, weight_scale, x_train, y_train, y_train_onehot, x_val, y_val, y_val_onehot)\n",
    "\n",
    "# EDIT: plot training & val, loss & accuracy\n",
    "plt.figure()\n",
    "plt.subplot(2,1,1)\n",
    "plt.plot(losses[:,0])\n",
    "plt.plot(losses[:,1])\n",
    "plt.legend([\"train\", \"val\"])\n",
    "\n",
    "plt.subplot(2,1,2)\n",
    "plt.plot(accuracies[:,0])\n",
    "plt.plot(accuracies[:,1])"
   ]
  },
  {
   "cell_type": "markdown",
   "id": "a2dd5728",
   "metadata": {},
   "source": [
    "# Homework: improve the accuracy of this model. "
   ]
  },
  {
   "cell_type": "markdown",
   "id": "faaf0515",
   "metadata": {},
   "source": [
    "Update this notebook so that the accuracy is improved. How high can you get it? You could change things directly in the notebook, such as increasing the number of epochs, changing the learning weight, changing the width of the hidden layer, etc. If you're more ambitious, you could also try changing the model definition itself by checking out the associated Python files. For example, you could add more layers to the network. The current notebook has a training accuracy of about 43%, but will vary with randomness."
   ]
  },
  {
   "cell_type": "code",
   "execution_count": 41,
   "id": "6e484c13",
   "metadata": {},
   "outputs": [
    {
     "name": "stdout",
     "output_type": "stream",
     "text": [
      "0.03210479558034334\n",
      "epoch 0 took 33.9 seconds, training loss 0.68807 (last batch), training accuracy 0.850, validation accuracy 0.850\n",
      "epoch 1 took 35.5 seconds, training loss 0.52536 (last batch), training accuracy 0.878, validation accuracy 0.879\n",
      "epoch 2 took 33.0 seconds, training loss 0.42956 (last batch), training accuracy 0.890, validation accuracy 0.892\n",
      "epoch 3 took 36.9 seconds, training loss 0.38361 (last batch), training accuracy 0.897, validation accuracy 0.899\n",
      "epoch 4 took 38.2 seconds, training loss 0.34662 (last batch), training accuracy 0.902, validation accuracy 0.906\n",
      "epoch 5 took 32.3 seconds, training loss 0.34794 (last batch), training accuracy 0.906, validation accuracy 0.909\n",
      "epoch 6 took 32.7 seconds, training loss 0.31148 (last batch), training accuracy 0.910, validation accuracy 0.912\n",
      "epoch 7 took 32.5 seconds, training loss 0.36999 (last batch), training accuracy 0.913, validation accuracy 0.916\n",
      "epoch 8 took 31.6 seconds, training loss 0.31686 (last batch), training accuracy 0.917, validation accuracy 0.919\n",
      "epoch 9 took 31.8 seconds, training loss 0.28334 (last batch), training accuracy 0.919, validation accuracy 0.921\n",
      "epoch 10 took 31.7 seconds, training loss 0.27705 (last batch), training accuracy 0.921, validation accuracy 0.924\n",
      "epoch 11 took 31.6 seconds, training loss 0.28293 (last batch), training accuracy 0.924, validation accuracy 0.925\n",
      "epoch 12 took 31.6 seconds, training loss 0.23397 (last batch), training accuracy 0.926, validation accuracy 0.927\n",
      "epoch 13 took 37.5 seconds, training loss 0.23982 (last batch), training accuracy 0.928, validation accuracy 0.928\n",
      "epoch 14 took 42.7 seconds, training loss 0.26339 (last batch), training accuracy 0.930, validation accuracy 0.930\n",
      "epoch 15 took 32.8 seconds, training loss 0.30080 (last batch), training accuracy 0.932, validation accuracy 0.931\n",
      "epoch 16 took 31.7 seconds, training loss 0.26267 (last batch), training accuracy 0.933, validation accuracy 0.933\n",
      "epoch 17 took 31.7 seconds, training loss 0.22807 (last batch), training accuracy 0.935, validation accuracy 0.934\n",
      "epoch 18 took 32.2 seconds, training loss 0.23480 (last batch), training accuracy 0.936, validation accuracy 0.935\n",
      "epoch 19 took 32.4 seconds, training loss 0.23398 (last batch), training accuracy 0.938, validation accuracy 0.937\n",
      "epoch 20 took 32.0 seconds, training loss 0.23261 (last batch), training accuracy 0.938, validation accuracy 0.937\n",
      "epoch 21 took 32.6 seconds, training loss 0.20876 (last batch), training accuracy 0.940, validation accuracy 0.938\n",
      "epoch 22 took 32.3 seconds, training loss 0.21886 (last batch), training accuracy 0.940, validation accuracy 0.939\n",
      "epoch 23 took 32.1 seconds, training loss 0.22130 (last batch), training accuracy 0.942, validation accuracy 0.940\n",
      "epoch 24 took 32.0 seconds, training loss 0.18458 (last batch), training accuracy 0.943, validation accuracy 0.941\n"
     ]
    },
    {
     "data": {
      "text/plain": [
       "[<matplotlib.lines.Line2D at 0x1c9d7c6b550>]"
      ]
     },
     "execution_count": 41,
     "metadata": {},
     "output_type": "execute_result"
    },
    {
     "data": {
      "image/png": "[encoded data removed]",
      "text/plain": [
       "<Figure size 432x288 with 2 Axes>"
      ]
     },
     "metadata": {
      "needs_background": "light"
     },
     "output_type": "display_data"
    }
   ],
   "source": [
    "learning_rate = 0.1  \n",
    "batch_size = 1200\n",
    "num_epochs = 25\n",
    "hidden_dim = 1600\n",
    "\n",
    "size_input = x_train.shape[1]\n",
    "weight_scale1 = numpy.sqrt(2./(size_input+hidden_dim))\n",
    "weight_scale2 = numpy.sqrt(2./(hidden_dim+nb_classes))\n",
    "weight_scale = (weight_scale1 + weight_scale2)/2\n",
    "print(weight_scale)\n",
    "losses, accuracies, model = training(learning_rate, batch_size, num_epochs, hidden_dim, weight_scale, x_train, y_train, y_train_onehot, x_val, y_val, y_val_onehot)\n",
    "\n",
    "plt.figure()\n",
    "plt.subplot(2,1,1)\n",
    "plt.plot(losses[:,0])\n",
    "plt.plot(losses[:,1])\n",
    "plt.legend([\"train\", \"val\"])\n",
    "\n",
    "plt.subplot(2,1,2)\n",
    "plt.plot(accuracies[:,0])\n",
    "plt.plot(accuracies[:,1])"
   ]
  }
 ],
 "metadata": {
  "kernelspec": {
   "display_name": "Python 3 (ipykernel)",
   "language": "python",
   "name": "python3"
  },
  "language_info": {
   "codemirror_mode": {
    "name": "ipython",
    "version": 3
   },
   "file_extension": ".py",
   "mimetype": "text/x-python",
   "name": "python",
   "nbconvert_exporter": "python",
   "pygments_lexer": "ipython3",
   "version": "3.9.7"
  }
 },
 "nbformat": 4,
 "nbformat_minor": 5
}
