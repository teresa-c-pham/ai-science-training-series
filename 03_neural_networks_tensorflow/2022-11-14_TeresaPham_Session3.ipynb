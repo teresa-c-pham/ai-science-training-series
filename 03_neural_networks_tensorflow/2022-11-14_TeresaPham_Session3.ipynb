{
 "cells": [
  {
   "cell_type": "markdown",
   "id": "8e04823b",
   "metadata": {},
   "source": [
    "## 01_keras.ipynb\n",
    "How can you improve model accuracy by increasing epochs, stacking more layers, or changing the optimizer?"
   ]
  },
  {
   "cell_type": "markdown",
   "id": "81dbff6a",
   "metadata": {},
   "source": [
    "**ANSWER:** You can improve model accuracy by changing the optimizer. Increasing epochs temporarily increases accuracy, but the accuracy will eventually level out and not rize. Stacking more layers reduces model accuracy."
   ]
  },
  {
   "cell_type": "markdown",
   "id": "b3e73198",
   "metadata": {},
   "source": [
    "## 02_keras_cnn.ipynb"
   ]
  },
  {
   "cell_type": "code",
   "execution_count": 1,
   "id": "28fd2153",
   "metadata": {},
   "outputs": [],
   "source": [
    "%matplotlib inline\n",
    "\n",
    "import tensorflow as tf\n",
    "\n",
    "import numpy\n",
    "import matplotlib.pyplot as plt\n",
    "import time"
   ]
  },
  {
   "cell_type": "code",
   "execution_count": 2,
   "id": "5db57d8a",
   "metadata": {},
   "outputs": [],
   "source": [
    "(x_train, y_train), (x_test, y_test) = tf.keras.datasets.cifar10.load_data()\n",
    "x_train = x_train.astype(numpy.float32)\n",
    "x_test  = x_test.astype(numpy.float32)\n",
    "\n",
    "x_train /= 255.\n",
    "x_test  /= 255.\n",
    "\n",
    "y_train = y_train.astype(numpy.int32)\n",
    "y_test  = y_test.astype(numpy.int32)"
   ]
  },
  {
   "cell_type": "code",
   "execution_count": 3,
   "id": "db8695e1",
   "metadata": {},
   "outputs": [],
   "source": [
    "class CIFAR10Classifier(tf.keras.models.Model):\n",
    "\n",
    "    def __init__(self, activation=tf.nn.tanh):\n",
    "        tf.keras.models.Model.__init__(self)\n",
    "\n",
    "        self.conv_1 = tf.keras.layers.Conv2D(32, [3, 3], activation='relu', kernel_initializer='he_uniform', padding='same')\n",
    "        self.conv_2 = tf.keras.layers.Conv2D(32, [3, 3], activation='relu', kernel_initializer='he_uniform', padding='same')\n",
    "        self.pool_3 = tf.keras.layers.MaxPooling2D(pool_size=(2, 2))\n",
    "        self.drop_4 = tf.keras.layers.Dropout(0.2)\n",
    "        self.conv_5 = tf.keras.layers.Conv2D(64, [3, 3], activation='relu', kernel_initializer='he_uniform', padding='same')\n",
    "        self.conv_6 = tf.keras.layers.Conv2D(64, [3, 3], activation='relu', kernel_initializer='he_uniform', padding='same')\n",
    "        self.pool_7 = tf.keras.layers.MaxPooling2D(pool_size=(2, 2))\n",
    "        self.drop_8 = tf.keras.layers.Dropout(0.2)\n",
    "        self.conv_9 = tf.keras.layers.Conv2D(128, [3, 3], activation='relu', kernel_initializer='he_uniform', padding='same')\n",
    "        self.conv_10 = tf.keras.layers.Conv2D(128, [3, 3], activation='relu', kernel_initializer='he_uniform', padding='same')\n",
    "        self.pool_11 = tf.keras.layers.MaxPooling2D(pool_size=(2, 2))\n",
    "        self.drop_12 = tf.keras.layers.Dropout(0.2)\n",
    "        self.dense_13 = tf.keras.layers.Dense(128, activation='relu')\n",
    "        self.drop_14 = tf.keras.layers.Dropout(0.2)\n",
    "        self.dense_15 = tf.keras.layers.Dense(10, activation='softmax')\n",
    "        \n",
    "\n",
    "    def call(self, inputs):\n",
    "\n",
    "        x = self.conv_1(inputs)\n",
    "        x = self.conv_2(x)\n",
    "        x = self.pool_3(x)\n",
    "        x = self.drop_4(x)\n",
    "        \n",
    "        x = self.conv_5(x)\n",
    "        x = self.conv_6(x)\n",
    "        x = self.pool_7(x)\n",
    "        x = self.drop_8(x)\n",
    "        \n",
    "        \n",
    "        x = self.conv_9(x)\n",
    "        x = self.conv_10(x)\n",
    "        x = self.pool_11(x)\n",
    "        x = self.drop_12(x)\n",
    "        \n",
    "        \n",
    "        x = tf.keras.layers.Flatten()(x)\n",
    "        x = self.dense_13(x)\n",
    "        x = self.drop_14(x)\n",
    "        x = self.dense_15(x)\n",
    "\n",
    "        return x"
   ]
  },
  {
   "cell_type": "code",
   "execution_count": 4,
   "id": "e8af7124",
   "metadata": {},
   "outputs": [],
   "source": [
    "def train_network_concise(_batch_size, _n_training_epochs, _lr):\n",
    "\n",
    "    cnn_model = CIFAR10Classifier()\n",
    "\n",
    "    cnn_model.compile(loss=\"sparse_categorical_crossentropy\", optimizer=\"adam\", metrics=['accuracy'])\n",
    "    \n",
    "    history = cnn_model.fit(x_train, y_train, batch_size=_batch_size, epochs=_n_training_epochs)\n",
    "    return history, cnn_model"
   ]
  },
  {
   "cell_type": "code",
   "execution_count": 5,
   "id": "5d905273",
   "metadata": {},
   "outputs": [
    {
     "name": "stdout",
     "output_type": "stream",
     "text": [
      "Epoch 1/10\n",
      "782/782 [==============================] - 340s 432ms/step - loss: 1.6764 - accuracy: 0.3824\n",
      "Epoch 2/10\n",
      "782/782 [==============================] - 366s 467ms/step - loss: 1.1572 - accuracy: 0.5897\n",
      "Epoch 3/10\n",
      "782/782 [==============================] - 306s 391ms/step - loss: 0.9462 - accuracy: 0.6688\n",
      "Epoch 4/10\n",
      "782/782 [==============================] - 306s 391ms/step - loss: 0.8223 - accuracy: 0.7141\n",
      "Epoch 5/10\n",
      "782/782 [==============================] - 329s 420ms/step - loss: 0.7458 - accuracy: 0.7411\n",
      "Epoch 6/10\n",
      "782/782 [==============================] - 337s 431ms/step - loss: 0.6839 - accuracy: 0.7622\n",
      "Epoch 7/10\n",
      "782/782 [==============================] - 318s 407ms/step - loss: 0.6441 - accuracy: 0.7774\n",
      "Epoch 8/10\n",
      "782/782 [==============================] - 317s 406ms/step - loss: 0.6022 - accuracy: 0.7909\n",
      "Epoch 9/10\n",
      "782/782 [==============================] - 347s 444ms/step - loss: 0.5638 - accuracy: 0.8043\n",
      "Epoch 10/10\n",
      "782/782 [==============================] - 386s 493ms/step - loss: 0.5385 - accuracy: 0.8117\n"
     ]
    }
   ],
   "source": [
    "batch_size = 64\n",
    "epochs = 10\n",
    "lr = .01\n",
    "history, cnn_model = train_network_concise(batch_size, epochs, lr)"
   ]
  },
  {
   "cell_type": "code",
   "execution_count": 6,
   "id": "2b0313f8",
   "metadata": {},
   "outputs": [
    {
     "data": {
      "image/png": "[encoded data removed]",
      "text/plain": [
       "<Figure size 360x216 with 1 Axes>"
      ]
     },
     "metadata": {
      "needs_background": "light"
     },
     "output_type": "display_data"
    },
    {
     "data": {
      "image/png": "[encoded data removed]",
      "text/plain": [
       "<Figure size 360x216 with 1 Axes>"
      ]
     },
     "metadata": {
      "needs_background": "light"
     },
     "output_type": "display_data"
    }
   ],
   "source": [
    "plt.figure(figsize=(5,3))\n",
    "plt.plot(history.epoch,history.history['loss'])\n",
    "plt.title('loss')\n",
    "\n",
    "plt.figure(figsize=(5,3))\n",
    "plt.plot(history.epoch,history.history['accuracy'])\n",
    "plt.title('accuracy');"
   ]
  },
  {
   "cell_type": "code",
   "execution_count": 7,
   "id": "9e1a1489",
   "metadata": {
    "scrolled": true
   },
   "outputs": [
    {
     "name": "stdout",
     "output_type": "stream",
     "text": [
      "313/313 - 15s - loss: 0.6185 - accuracy: 0.7934 - 15s/epoch - 49ms/step\n",
      "accuracy: 79.34%\n",
      "Wall time: 16.7 s\n"
     ]
    }
   ],
   "source": [
    "%%time\n",
    "x_test_reshaped = numpy.expand_dims(x_test, -1)\n",
    "scores = cnn_model.evaluate(x_test, y_test, verbose=2)\n",
    "print(\"%s: %.2f%%\" % (cnn_model.metrics_names[1], scores[1]*100))"
   ]
  },
  {
   "cell_type": "markdown",
   "id": "4b3bf879",
   "metadata": {},
   "source": [
    "Classification accuracy increased from 58.06% to 79.34%"
   ]
  }
 ],
 "metadata": {
  "kernelspec": {
   "display_name": "Python 3 (ipykernel)",
   "language": "python",
   "name": "python3"
  },
  "language_info": {
   "codemirror_mode": {
    "name": "ipython",
    "version": 3
   },
   "file_extension": ".py",
   "mimetype": "text/x-python",
   "name": "python",
   "nbconvert_exporter": "python",
   "pygments_lexer": "ipython3",
   "version": "3.9.7"
  }
 },
 "nbformat": 4,
 "nbformat_minor": 5
}
